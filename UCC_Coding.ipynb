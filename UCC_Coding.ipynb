{
 "cells": [
  {
   "cell_type": "code",
   "execution_count": 41,
   "id": "d3ed7938",
   "metadata": {},
   "outputs": [],
   "source": [
    "import pandas as pd\n",
    "from textblob import TextBlob"
   ]
  },
  {
   "cell_type": "code",
   "execution_count": 67,
   "id": "05e1be62",
   "metadata": {},
   "outputs": [],
   "source": [
    "### Importing libraries\n",
    "from sklearn.pipeline import Pipeline\n",
    "from sklearn.ensemble import RandomForestClassifier\n",
    "from sklearn.linear_model import LogisticRegression\n",
    "from sklearn.naive_bayes import MultinomialNB\n",
    "from sklearn.feature_extraction.text import TfidfVectorizer\n",
    "from sklearn.metrics import confusion_matrix\n",
    "from sklearn.metrics import precision_score,accuracy_score\n",
    "from sklearn.metrics import confusion_matrix\n",
    "from matplotlib import pyplot as plt\n",
    "import seaborn as sn\n",
    "from sklearn.model_selection import train_test_split\n",
    "\n",
    "\n",
    "import nltk\n",
    "from nltk.corpus import stopwords\n",
    "from nltk.stem.porter import PorterStemmer\n",
    "import re"
   ]
  },
  {
   "cell_type": "code",
   "execution_count": 42,
   "id": "d903fdde",
   "metadata": {},
   "outputs": [],
   "source": [
    "# Load the Twitter dataset from an Excel file (replace 'your_dataset.xlsx' with your file)\n",
    "excel_file = 'TweetUCC1.xlsx'\n",
    "df = pd.read_excel(excel_file)"
   ]
  },
  {
   "cell_type": "code",
   "execution_count": 43,
   "id": "b0ce3bbb",
   "metadata": {},
   "outputs": [
    {
     "name": "stdout",
     "output_type": "stream",
     "text": [
      "(51, 2)\n"
     ]
    },
    {
     "data": {
      "text/html": [
       "<div>\n",
       "<style scoped>\n",
       "    .dataframe tbody tr th:only-of-type {\n",
       "        vertical-align: middle;\n",
       "    }\n",
       "\n",
       "    .dataframe tbody tr th {\n",
       "        vertical-align: top;\n",
       "    }\n",
       "\n",
       "    .dataframe thead th {\n",
       "        text-align: right;\n",
       "    }\n",
       "</style>\n",
       "<table border=\"1\" class=\"dataframe\">\n",
       "  <thead>\n",
       "    <tr style=\"text-align: right;\">\n",
       "      <th></th>\n",
       "      <th>UCC_Tweets</th>\n",
       "      <th>Sentiment</th>\n",
       "    </tr>\n",
       "  </thead>\n",
       "  <tbody>\n",
       "    <tr>\n",
       "      <th>0</th>\n",
       "      <td>The #UniformCivilCode discourse reflects India...</td>\n",
       "      <td>Positive</td>\n",
       "    </tr>\n",
       "    <tr>\n",
       "      <th>1</th>\n",
       "      <td>Comparative analysis of uniform civil codes fr...</td>\n",
       "      <td>Positive</td>\n",
       "    </tr>\n",
       "    <tr>\n",
       "      <th>2</th>\n",
       "      <td>The #UCCBill could infringe upon the autonomy ...</td>\n",
       "      <td>Negative</td>\n",
       "    </tr>\n",
       "    <tr>\n",
       "      <th>3</th>\n",
       "      <td>The #UCCBill disregards the rich heritage embe...</td>\n",
       "      <td>Negative</td>\n",
       "    </tr>\n",
       "    <tr>\n",
       "      <th>4</th>\n",
       "      <td>Positive strides towards gender equality and c...</td>\n",
       "      <td>Positive</td>\n",
       "    </tr>\n",
       "  </tbody>\n",
       "</table>\n",
       "</div>"
      ],
      "text/plain": [
       "                                          UCC_Tweets Sentiment\n",
       "0  The #UniformCivilCode discourse reflects India...  Positive\n",
       "1  Comparative analysis of uniform civil codes fr...  Positive\n",
       "2  The #UCCBill could infringe upon the autonomy ...  Negative\n",
       "3  The #UCCBill disregards the rich heritage embe...  Negative\n",
       "4  Positive strides towards gender equality and c...  Positive"
      ]
     },
     "execution_count": 43,
     "metadata": {},
     "output_type": "execute_result"
    }
   ],
   "source": [
    "print(df.shape)\n",
    "df.head()\n",
    "#Table I. Final data frame collected"
   ]
  },
  {
   "cell_type": "code",
   "execution_count": 44,
   "id": "3ba4496f",
   "metadata": {},
   "outputs": [
    {
     "data": {
      "text/plain": [
       "UCC_Tweets    0\n",
       "Sentiment     0\n",
       "dtype: int64"
      ]
     },
     "execution_count": 44,
     "metadata": {},
     "output_type": "execute_result"
    }
   ],
   "source": [
    "df.isnull().sum()"
   ]
  },
  {
   "cell_type": "code",
   "execution_count": 45,
   "id": "c6475b10",
   "metadata": {},
   "outputs": [
    {
     "name": "stdout",
     "output_type": "stream",
     "text": [
      "Sentiment\n",
      "Positive    31\n",
      "Negative    20\n",
      "dtype: int64\n"
     ]
    },
    {
     "data": {
      "text/plain": [
       "<AxesSubplot:xlabel='Sentiment'>"
      ]
     },
     "execution_count": 45,
     "metadata": {},
     "output_type": "execute_result"
    },
    {
     "data": {
      "image/png": "[encoded data removed]",
      "text/plain": [
       "<Figure size 432x288 with 1 Axes>"
      ]
     },
     "metadata": {
      "needs_background": "light"
     },
     "output_type": "display_data"
    }
   ],
   "source": [
    "print(df.value_counts('Sentiment'))\n",
    "df.value_counts('Sentiment').plot(kind='bar')"
   ]
  },
  {
   "cell_type": "code",
   "execution_count": 80,
   "id": "9f95d5ac",
   "metadata": {},
   "outputs": [
    {
     "data": {
      "text/plain": [
       "([<matplotlib.patches.Wedge at 0x190b2aecf70>,\n",
       "  <matplotlib.patches.Wedge at 0x190b2ac93a0>],\n",
       " [Text(-0.3655903556118915, 1.0374698510721025, 'Positive'),\n",
       "  Text(0.3655904527468272, -1.037469816843059, 'Negative')])"
      ]
     },
     "execution_count": 80,
     "metadata": {},
     "output_type": "execute_result"
    },
    {
     "data": {
      "image/png": "[encoded data removed]",
      "text/plain": [
       "<Figure size 432x288 with 1 Axes>"
      ]
     },
     "metadata": {},
     "output_type": "display_data"
    }
   ],
   "source": [
    "import matplotlib.pyplot as plt\n",
    "labels = 'Positive', 'Negative',\n",
    "sizes = [31, 20]\n",
    "\n",
    "fig, ax = plt.subplots()\n",
    "ax.pie(sizes, labels=labels)"
   ]
  },
  {
   "cell_type": "code",
   "execution_count": 81,
   "id": "bd21eb70",
   "metadata": {},
   "outputs": [
    {
     "data": {
      "text/plain": [
       "([<matplotlib.patches.Wedge at 0x190b2a56d30>,\n",
       "  <matplotlib.patches.Wedge at 0x190b28ea220>],\n",
       " [Text(-0.1994129212428499, 0.5658926460393287, 'Positive'),\n",
       "  Text(0.1994129742255421, -0.5658926273689412, 'Negative')],\n",
       " [Text(-0.415443585922604, 1.1789430125819347, '60.8%'),\n",
       "  Text(0.4154436963032127, -1.178942973685294, '39.2%')])"
      ]
     },
     "execution_count": 81,
     "metadata": {},
     "output_type": "execute_result"
    },
    {
     "data": {
      "image/png": "[encoded data removed]",
      "text/plain": [
       "<Figure size 432x288 with 1 Axes>"
      ]
     },
     "metadata": {},
     "output_type": "display_data"
    }
   ],
   "source": [
    "fig, ax = plt.subplots()\n",
    "ax.pie(sizes, labels=labels, autopct='%1.1f%%',\n",
    "       pctdistance=1.25, labeldistance=.6)"
   ]
  },
  {
   "cell_type": "code",
   "execution_count": 46,
   "id": "31855161",
   "metadata": {},
   "outputs": [],
   "source": [
    "### Preprocessing Function\n",
    "ps = PorterStemmer()\n",
    "corpus = set()\n",
    "def preprocess(text):\n",
    "    \n",
    "    ## removing unwanted space\n",
    "    text = text.strip()\n",
    "    \n",
    "    ## removing html tags \n",
    "    text = re.sub(\"<[^>]*>\", \"\",text)\n",
    "    \n",
    "    ## removing any numerical values\n",
    "    text = re.sub('[^a-zA-Z]', ' ',text)\n",
    "    \n",
    "    ## lower case the word\n",
    "    text = text.lower()\n",
    "    \n",
    "    text = text.split()\n",
    "    \n",
    "    ## stemming the word for sentiment analysis do not remove the stop word\n",
    "    text = [ps.stem(word) for word in text]\n",
    "    text = ' '.join(text)\n",
    "    return text"
   ]
  },
  {
   "cell_type": "code",
   "execution_count": 47,
   "id": "0f9c915e",
   "metadata": {},
   "outputs": [],
   "source": [
    "df['Preprocessed_review'] = df.UCC_Tweets.apply(preprocess)"
   ]
  },
  {
   "cell_type": "code",
   "execution_count": 55,
   "id": "b2fe45d7",
   "metadata": {},
   "outputs": [
    {
     "data": {
      "text/html": [
       "<div>\n",
       "<style scoped>\n",
       "    .dataframe tbody tr th:only-of-type {\n",
       "        vertical-align: middle;\n",
       "    }\n",
       "\n",
       "    .dataframe tbody tr th {\n",
       "        vertical-align: top;\n",
       "    }\n",
       "\n",
       "    .dataframe thead th {\n",
       "        text-align: right;\n",
       "    }\n",
       "</style>\n",
       "<table border=\"1\" class=\"dataframe\">\n",
       "  <thead>\n",
       "    <tr style=\"text-align: right;\">\n",
       "      <th></th>\n",
       "      <th>UCC_Tweets</th>\n",
       "      <th>Sentiment</th>\n",
       "      <th>Preprocessed_review</th>\n",
       "      <th>sentiment_numeric</th>\n",
       "    </tr>\n",
       "  </thead>\n",
       "  <tbody>\n",
       "    <tr>\n",
       "      <th>0</th>\n",
       "      <td>The #UniformCivilCode discourse reflects India...</td>\n",
       "      <td>Positive</td>\n",
       "      <td>the uniformcivilcod discours reflect india s p...</td>\n",
       "      <td>1</td>\n",
       "    </tr>\n",
       "    <tr>\n",
       "      <th>1</th>\n",
       "      <td>Comparative analysis of uniform civil codes fr...</td>\n",
       "      <td>Positive</td>\n",
       "      <td>compar analysi of uniform civil code from arou...</td>\n",
       "      <td>1</td>\n",
       "    </tr>\n",
       "    <tr>\n",
       "      <th>2</th>\n",
       "      <td>The #UCCBill could infringe upon the autonomy ...</td>\n",
       "      <td>Negative</td>\n",
       "      <td>the uccbil could infring upon the autonomi of ...</td>\n",
       "      <td>0</td>\n",
       "    </tr>\n",
       "    <tr>\n",
       "      <th>3</th>\n",
       "      <td>The #UCCBill disregards the rich heritage embe...</td>\n",
       "      <td>Negative</td>\n",
       "      <td>the uccbil disregard the rich heritag embed in...</td>\n",
       "      <td>0</td>\n",
       "    </tr>\n",
       "    <tr>\n",
       "      <th>4</th>\n",
       "      <td>Positive strides towards gender equality and c...</td>\n",
       "      <td>Positive</td>\n",
       "      <td>posit stride toward gender equal and concern a...</td>\n",
       "      <td>1</td>\n",
       "    </tr>\n",
       "  </tbody>\n",
       "</table>\n",
       "</div>"
      ],
      "text/plain": [
       "                                          UCC_Tweets Sentiment  \\\n",
       "0  The #UniformCivilCode discourse reflects India...  Positive   \n",
       "1  Comparative analysis of uniform civil codes fr...  Positive   \n",
       "2  The #UCCBill could infringe upon the autonomy ...  Negative   \n",
       "3  The #UCCBill disregards the rich heritage embe...  Negative   \n",
       "4  Positive strides towards gender equality and c...  Positive   \n",
       "\n",
       "                                 Preprocessed_review  sentiment_numeric  \n",
       "0  the uniformcivilcod discours reflect india s p...                  1  \n",
       "1  compar analysi of uniform civil code from arou...                  1  \n",
       "2  the uccbil could infring upon the autonomi of ...                  0  \n",
       "3  the uccbil disregard the rich heritag embed in...                  0  \n",
       "4  posit stride toward gender equal and concern a...                  1  "
      ]
     },
     "execution_count": 55,
     "metadata": {},
     "output_type": "execute_result"
    }
   ],
   "source": [
    "map_dict = {'Positive':1,\n",
    "           'Negative':0}\n",
    "df['sentiment_numeric'] = df.Sentiment.map(map_dict)\n",
    "df.head()"
   ]
  },
  {
   "cell_type": "code",
   "execution_count": 56,
   "id": "4e07cb33",
   "metadata": {},
   "outputs": [],
   "source": [
    "### performing train test split\n",
    "from sklearn.model_selection import train_test_split\n",
    "x_train,x_test,y_train,y_test = train_test_split(df.Preprocessed_review\t,\n",
    "                                                 df.sentiment_numeric,\n",
    "                                                 test_size=0.2,\n",
    "                                                 random_state=42,\n",
    "                                                 stratify=df.sentiment_numeric)"
   ]
  },
  {
   "cell_type": "code",
   "execution_count": 57,
   "id": "882752ae",
   "metadata": {},
   "outputs": [
    {
     "data": {
      "text/plain": [
       "((40,), (11,))"
      ]
     },
     "execution_count": 57,
     "metadata": {},
     "output_type": "execute_result"
    }
   ],
   "source": [
    "x_train.shape,x_test.shape"
   ]
  },
  {
   "cell_type": "code",
   "execution_count": 58,
   "id": "7bb3c185",
   "metadata": {},
   "outputs": [
    {
     "name": "stdout",
     "output_type": "stream",
     "text": [
      "multi naive bayes precision: 1.0\n",
      "multi naive bayes accuracy: 1.0\n"
     ]
    }
   ],
   "source": [
    "multi_nb = Pipeline([\n",
    "     ('tfidf',TfidfVectorizer()),        \n",
    "     ('Multi_NB', MultinomialNB())         \n",
    "])\n",
    "\n",
    "multi_nb.fit(x_train, y_train)\n",
    "\n",
    "\n",
    "y_pred_mnb = multi_nb.predict(x_test)\n",
    "\n",
    "print(f'multi naive bayes precision: {precision_score(y_test,y_pred_mnb)}')\n",
    "print(f'multi naive bayes accuracy: {accuracy_score(y_test,y_pred_mnb)}')"
   ]
  },
  {
   "cell_type": "code",
   "execution_count": 59,
   "id": "74415fcf",
   "metadata": {},
   "outputs": [
    {
     "data": {
      "text/plain": [
       "Text(69.0, 0.5, 'Truth')"
      ]
     },
     "execution_count": 59,
     "metadata": {},
     "output_type": "execute_result"
    },
    {
     "data": {
      "image/png": "[encoded data removed]",
      "text/plain": [
       "<Figure size 720x504 with 2 Axes>"
      ]
     },
     "metadata": {
      "needs_background": "light"
     },
     "output_type": "display_data"
    }
   ],
   "source": [
    "confusion_mat = confusion_matrix(y_test, y_pred_mnb)\n",
    "\n",
    "\n",
    "plt.figure(figsize = (10,7))\n",
    "sn.heatmap(confusion_mat, annot=True, fmt='d')\n",
    "plt.xlabel('Prediction')\n",
    "plt.ylabel('Truth')"
   ]
  }
 ],
 "metadata": {
  "kernelspec": {
   "display_name": "Python 3 (ipykernel)",
   "language": "python",
   "name": "python3"
  },
  "language_info": {
   "codemirror_mode": {
    "name": "ipython",
    "version": 3
   },
   "file_extension": ".py",
   "mimetype": "text/x-python",
   "name": "python",
   "nbconvert_exporter": "python",
   "pygments_lexer": "ipython3",
   "version": "3.9.12"
  }
 },
 "nbformat": 4,
 "nbformat_minor": 5
}
